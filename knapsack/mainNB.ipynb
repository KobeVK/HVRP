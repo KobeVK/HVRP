{
 "cells": [
  {
   "attachments": {},
   "cell_type": "markdown",
   "id": "a0449ef7",
   "metadata": {},
   "source": [
    "# KNAPSACK PROBLEM"
   ]
  },
  {
   "attachments": {},
   "cell_type": "markdown",
   "id": "d3bbcb85",
   "metadata": {},
   "source": [
    "list of things\n",
    "1. the problem - capacitated hvrp\n",
    "1. Classical overview and algorithem explanation\n",
    "1. quantum advantages\n",
    "1. the uantum algorithem\n",
    "1. benchmarking  -  Comparing qaoa solution with classical solver\n",
    "1. conclusions and future work\n",
    "\n",
    "\n",
    "Things to write about \n",
    "1. DOCPLEX https://arxiv.org/pdf/2202.13125.pdf\n",
    "1. COBYL Ahttps://arxiv.org/pdf/2202.13125.pdf\n",
    "1. qaoa\n",
    "1. \n",
    "\n",
    "\n",
    "1. in this main notbook -\n",
    "1. importing relavent building blocks file for classical, and for quantum\n",
    "1. setting up values, weighs and other parameters\n",
    "1.  calling classical function, \n",
    "1.  calling quantum function\n",
    "1. benchmarcking - plotting\n",
    "\n"
   ]
  },
  {
   "attachments": {},
   "cell_type": "markdown",
   "id": "34813fee",
   "metadata": {},
   "source": [
    "$$\n",
    "Ha = A * \\sum\\limits_{v}\\left(\\left( \\sum\\limits_{k=0}^{M^v-1} (2^k z_k^v + (Q^v + 1 - 2^{M^v}  ) z_M^v\\right) -  \\sum\\limits_{a,i}q_i y_{ia}^v\\right)^2\n",
    "\n",
    "\n",
    "$$\n",
    "\n"
   ]
  },
  {
   "cell_type": "code",
   "execution_count": null,
   "id": "ef837342",
   "metadata": {},
   "outputs": [],
   "source": []
  },
  {
   "attachments": {},
   "cell_type": "markdown",
   "id": "04161382",
   "metadata": {},
   "source": [
    "$$Hb = -B \\sum\\limits_i^N(c_i x_i)$$"
   ]
  },
  {
   "cell_type": "markdown",
   "id": "504655cd",
   "metadata": {},
   "source": []
  }
 ],
 "metadata": {
  "kernelspec": {
   "display_name": "Python 3 (ipykernel)",
   "language": "python",
   "name": "python3"
  },
  "language_info": {
   "codemirror_mode": {
    "name": "ipython",
    "version": 3
   },
   "file_extension": ".py",
   "mimetype": "text/x-python",
   "name": "python",
   "nbconvert_exporter": "python",
   "pygments_lexer": "ipython3",
   "version": "3.11.3"
  }
 },
 "nbformat": 4,
 "nbformat_minor": 5
}
