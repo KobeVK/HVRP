{
 "cells": [
  {
   "cell_type": "markdown",
   "metadata": {},
   "source": [
    "# Vehicle Routing\n",
    "\n",
    "## The Introduction\n",
    "\n",
    "Logistics is a major industry, with some estimates valuing it at USD 8183 billion globally in 2015. Most service providers operate a number of vehicles (e.g., trucks and container ships), a number of depots, where the vehicles are based overnight, and serve a number of client locations with each vehicle during each day. There are many optimization and control problems that consider these parameters. Computationally, the key challenge is how to design routes from depots to a number of client locations and back to the depot, so as to minimize vehicle-miles traveled, time spent, or similar objective functions. In this notebook we formalize an idealized version of the problem and showcase its solution using the quantum approximate optimization approach of Farhi, Goldstone, and Gutmann (2014). \n",
    "\n",
    "The overall workflow we demonstrate comprises:\n",
    "\n",
    "1. establish the client locations. Normally, these would be available ahead of the day of deliveries from a database. In our use case, we generate these randomly.\n",
    "\n",
    "2. compute the pair-wise distances, travel times, or similar. In our case, we consider the Euclidean distance, \"as the crow flies\", which is perhaps the simplest possible.\n",
    "\n",
    "3. compute the actual routes. This step is run twice, actually. First, we obtain a reference value by a run of a classical solver (IBM CPLEX) on the classical computer. Second, we run an alternative, hybrid algorithm partly on the quantum computer.\n",
    "\n",
    "4. visualization of the results. In our case, this is again a simplistic plot.\n",
    "\n",
    "In the following, we first explain the model, before we proceed with the installation of the pre-requisites and the data loading.\n",
    "\n",
    "## The Model \n",
    "\n",
    "Mathematically speaking, the vehicle routing problem (VRP) is a combinatorial problem, wherein the best routes from a depot to a number of clients and back to the depot are sought, given a number of available vehicles. \n",
    "\n",
    "Let $N_0$ be the number of clients (indexed as $1,\\dots,N_0$), and $V$ be the number of available vehicles. Let $y_{i,\\alpha} = \\{0,1\\}$ be the binary decision variable which, if it is $1$, activates the node $i$ in order $\\alpha$ of the cyclic route. The node index $i$ runs from $0$ to $N_0$, where $0$ is (by convention) the depot and the order $\\alpha$ runs from $1$ to $N_0$. The route starts and ends back at the depot so we do not include variables $y_{0,0}$ and $y_{0,N_0+1}$ in the cost function, as they are automatically set equal to 1 via the other constraints that we use for the depot. In fact, we end up not using the depot variables ($y_{0,\\alpha}$) at all. Hence, there are $N_0^2$ decision variables, as we have assumed a fully connected graph. $c_{i,j}$ is the variable cost of travelling from node $i$ to node $j$ and $t$ is the fixed cost of operating each vehicle (=fixed cost of each vehicle leaving the depot).\n",
    "\n",
    "The VRP can be formulated as:\n",
    "\n",
    "$$\n",
    "(VRP) \\quad  f = \\min_{\\{y_{i,\\alpha}\\}_{i, \\alpha}\\in \\{0,1\\}} \\sum_{i, j} c_{i,j} \\sum_{\\alpha=1}^{N_0-1} y_{i,\\alpha}y_{j,\\alpha+1} \n",
    "+ \\sum_{i=1}^{N_0} c_{0,i} \\bigg[ y_{i,1} + \\sum_{\\alpha=2}^{N_0} \\bigg( 1 - \\sum_{\\substack{j=1\\\\ j\\neq i}}^{N_0} y_{j,\\alpha-1} \\bigg) y_{i,\\alpha} \\bigg]\n",
    "+ \\sum_{i=1}^{N_0} c_{i,0} \\bigg[ y_{i,N_0} + \\sum_{\\alpha=1}^{N_0-1} \\bigg( 1 - \\sum_{\\substack{j=1\\\\ j\\neq i}}^{N_0} y_{j,\\alpha+1} \\bigg) y_{i,\\alpha} \\bigg] \\\\\n",
    "+ t \\sum_{j=1}^{N_0}\\sum_{\\alpha=2}^{N_0} \\bigg( 1 - \\sum_{i=1}^{N_0} y_{i,\\alpha-1} \\bigg) y_{j,\\alpha}\n",
    "$$\n",
    "\n",
    "subject to the node-visiting constraints:\n",
    "\n",
    "$$\n",
    "\\sum_{\\alpha=1}^{N_0} y_{i,\\alpha} = 1, \\,\\sum_{i=1}^{N_0} y_{i,\\alpha} = 1,\\, \\forall i,\\alpha \\in \\{1,\\dots,N_0\\},\n",
    "$$\n",
    "\n",
    "which can be added to the cost function using the following terms:\n",
    "\n",
    "$$\n",
    "\\sum_{i=1}^{N_0}\\bigg( 1 - \\sum_{\\alpha=1}^{N_0} y_{i,\\alpha} \\bigg)^2\n",
    "$$\n",
    "\n",
    "and \n",
    "\n",
    "$$\n",
    "\\sum_{\\alpha=1}^{N_0}\\bigg( 1 - \\sum_{i=1}^{N_0} y_{i,\\alpha} \\bigg)^2,\n",
    "$$\n",
    "\n",
    "respectively.\n",
    "\n",
    "\n",
    "## Classical solution\n",
    "\n",
    "We can solve the VRP classically, e.g., by using CPLEX. CPLEX uses a branch-and-bound-and-cut method to find an approximate solution of the VRP, which, in this formulation, is a mixed-integer linear program (MILP). For the sake of notation, we pack the decision variables in one vector as\n",
    "\n",
    "$$\n",
    "{\\bf z} = [y_{11},y_{12},\\ldots,y_{21}, y_{22},\\ldots,y_{N_0,N_0}]^T,\n",
    "$$\n",
    "\n",
    "wherein ${\\bf z} \\in \\{0,1\\}^{n}$, with $n = N_0^2$. So the dimension of the problem scales quadratically with the number of nodes. Let us denote the optimal solution by ${\\bf z}^*$, and the associated optimal cost $f^*$. \n",
    "\n",
    "\n",
    "## Quantum solution\n",
    "\n",
    "Here, we demonstrate an approach that combines classical and quantum computing steps, following the quantum approximate optimization approach of Farhi, Goldstone, and Gutmann (2014). In particular, we use the variational quantum eigensolver (VQE). We stress that given the use of limited depth of the quantum circuits employed (variational forms), it is hard to discuss the speed-up of the algorithm, as the solution obtained is heuristic in nature. At the same time, due to the nature and importance of the target problems, it is worth investigating heuristic approaches, which may be worthwhile for some problem classes. \n",
    "\n",
    "The algorithm can be summarized as follows:\n",
    "\n",
    "- Preparation steps: \n",
    "\t- Transform the combinatorial problem into a binary polynomial optimization problem with equality constraints only;\n",
    "\t- Map the resulting problem into an Ising Hamiltonian ($H$) for variables ${\\bf z}$ and basis $Z$, via penalty methods if necessary;\n",
    "\t- Choose the depth of the quantum circuit $m$. Note that the depth can be modified adaptively.\n",
    "\t- Choose a set of controls $\\theta$ and make a trial function $\\big|\\psi(\\boldsymbol\\theta)\\rangle$, built using a quantum circuit made of C-Phase gates and single-qubit Y rotations, parameterized by the components of $\\boldsymbol\\theta$.\n",
    "\n",
    "\n",
    "- Algorithm steps: \n",
    "\t- Evaluate $C(\\boldsymbol\\theta) = \\langle\\psi(\\boldsymbol\\theta)\\big|H\\big|\\psi(\\boldsymbol\\theta)\\rangle$ by sampling the outcome of the circuit in the Z-basis and adding the expectation values of the individual Ising terms together. In general, different control points around $\\boldsymbol\\theta$ have to be estimated, depending on the classical optimizer chosen.\n",
    "\t- Use a classical optimizer to choose a new set of controls.\n",
    "\t- Continue until $C(\\boldsymbol\\theta)$ reaches a minimum, close enough to the solution $\\boldsymbol\\theta^*$.\n",
    "\t- Use the last $\\boldsymbol\\theta$ to generate a final set of samples from the distribution $\\Big|\\langle z_i\\big|\\psi(\\boldsymbol\\theta)\\rangle\\Big|^2\\;\\forall i$ to obtain the answer.\n",
    "\n",
    "\n",
    "There are many parameters throughout, notably the choice of the trial wavefunction. Below, we consider:\n",
    "\n",
    "$$\n",
    "\\big|\\psi(\\theta)\\rangle = [U_\\mathrm{single}(\\boldsymbol\\theta) U_\\mathrm{entangler}]^m \\big|+\\rangle\n",
    "$$\n",
    "\n",
    "where $U_\\mathrm{entangler}$ is a collection of C-Phase gates (fully-entangling gates), and $U_\\mathrm{single}(\\theta) = \\prod_{i=1}^N Y(\\theta_{i})$, where $N$ is the number of qubits and $m$ is the depth of the quantum circuit. \n",
    "\n",
    "\n",
    "### Construct the Ising Hamiltonian\n",
    "\n",
    "From $VRP$ one can construct a binary polynomial optimization with equality constraints only by considering cases in which $V=N_0-1$. In these cases the sub-tour elimination constraints are not necessary and the problem is only on the variable ${\\bf z}$. In particular, we can write an augmented Lagrangian as\n",
    "\n",
    "$$\n",
    "(IH) \\quad H = A\\sum_{i, j} c_{i,j} \\sum_{\\alpha=1}^{N_0-1} y_{i,\\alpha}y_{j,\\alpha+1} \n",
    "+ A\\sum_{i=1}^{N_0} c_{0,i} \\bigg[ y_{i,1} + \\sum_{\\alpha=2}^{N_0} \\bigg( 1 - \\sum_{\\substack{j=1\\\\ j\\neq i}}^{N_0} y_{j,\\alpha-1} \\bigg) y_{i,\\alpha} \\bigg]\n",
    "+ A\\sum_{i=1}^{N_0} c_{i,0} \\bigg[ y_{i,N_0} + \\sum_{\\alpha=1}^{N_0-1} \\bigg( 1 - \\sum_{\\substack{j=1\\\\ j\\neq i}}^{N_0} y_{j,\\alpha+1} \\bigg) y_{i,\\alpha} \\bigg] \\\\\n",
    "+ B t \\sum_{j=1}^{N_0}\\sum_{\\alpha=2}^{N_0} \\bigg( 1 - \\sum_{i=1}^{N_0} y_{i,\\alpha-1} \\bigg) y_{j,\\alpha}\n",
    "+ C \\sum_{i=1}^{N_0}\\bigg( 1 - \\sum_{\\alpha=1}^{N_0} y_{i,\\alpha} \\bigg)^2\n",
    "+ D \\sum_{\\alpha=1}^{N_0}\\bigg( 1 - \\sum_{i=1}^{N_0} y_{i,\\alpha} \\bigg)^2,\n",
    "$$\n",
    "\n",
    "where $C,D$ are a big enough parameters such that the constraints are not violated. \n",
    "\n",
    "### From Hamiltonian to QP formulation \n",
    "\n",
    "In the vector ${\\bf z}$, and for a complete graph ($\\delta(i)^+ = \\delta(i)^- = \\{0,1,\\dots,i-1,i+1,\\dots,n\\}$), $H$ can be written as follows.\n",
    "\n",
    "\n",
    "$$\n",
    "\\min_{\\bf z\\in \\{0,1\\}^{n(n+1)}} \\bf z^T {\\bf Q} \\bf z + {\\bf g}^T \\bf z + c,\n",
    "$$\n",
    "\n",
    "The QP formulation of the Ising Hamiltonian is ready for the use of VQE. We will solve the QP using optimization stack available in Qiskit.\n",
    "\n",
    "\n",
    "\n",
    "## References\n",
    "\n",
    "[1] E. Farhi, J. Goldstone, S. Gutmann e-print arXiv 1411.4028, 2014\n",
    "\n",
    "[2] [Max-Cut and Traveling Salesman Problem](./06_examples_max_cut_and_tsp.ipynb)\n",
    "\n",
    "[3] C. E. Miller, E. W. Tucker, and R. A. Zemlin (1960). \"Integer Programming Formulations and Travelling Salesman Problems\". J. ACM. 7: 326–329. doi:10.1145/321043.321046.\n",
    "\n",
    "[4] D. L. Applegate, R. M. Bixby, V. Chvátal, and W. J. Cook (2006). The Traveling Salesman Problem. Princeton University Press, ISBN 978-0-691-12993-8."
   ]
  },
  {
   "cell_type": "markdown",
   "metadata": {},
   "source": [
    "## Initialization\n",
    "\n",
    "First of all we load all the packages that we need.\n",
    "CPLEX is required for the classical computations. You can install it by `pip install 'qiskit-optimization[cplex]'`. "
   ]
  },
  {
   "cell_type": "code",
   "execution_count": 10,
   "metadata": {},
   "outputs": [],
   "source": [
    "import numpy as np\n",
    "import matplotlib.pyplot as plt\n",
    "\n",
    "try:\n",
    "    import cplex\n",
    "    from cplex.exceptions import CplexError\n",
    "except:\n",
    "    print(\"Warning: Cplex not found.\")\n",
    "import math\n",
    "\n",
    "from qiskit.utils import algorithm_globals\n",
    "from qiskit.algorithms.minimum_eigensolvers import SamplingVQE\n",
    "from qiskit.algorithms.optimizers import SPSA\n",
    "from qiskit.circuit.library import RealAmplitudes\n",
    "from qiskit.primitives import Sampler"
   ]
  },
  {
   "cell_type": "markdown",
   "metadata": {},
   "source": [
    "We then initialize the variables"
   ]
  },
  {
   "cell_type": "code",
   "execution_count": 11,
   "metadata": {},
   "outputs": [],
   "source": [
    "# Initialize the problem by defining the parameters\n",
    "n = 5  # number of nodes + depot (n+1)\n",
    "K = 2  # number of vehicles\n",
    "t_list = 10 * np.array([2,5]) #np.random.random(K)  # fixed cost of running each vehicle"
   ]
  },
  {
   "cell_type": "markdown",
   "metadata": {},
   "source": [
    "We define an initializer class that randomly places the nodes in a 2-D plane and computes the distance between them. "
   ]
  },
  {
   "cell_type": "code",
   "execution_count": 12,
   "metadata": {},
   "outputs": [],
   "source": [
    "# Get the data\n",
    "class Initializer:\n",
    "    def __init__(self, n, K):\n",
    "        self.n = n\n",
    "        self.K = K\n",
    "\n",
    "    def generate_instance(self):  # cost of travel\n",
    "\n",
    "        n = self.n\n",
    "        K = self.K\n",
    "\n",
    "        # np.random.seed(33)\n",
    "        np.random.seed(1543)\n",
    "\n",
    "        xc = (np.random.rand(n) - 0.5) * 10\n",
    "        yc = (np.random.rand(n) - 0.5) * 10\n",
    "\n",
    "        instance = np.zeros([n, n]) #, K\n",
    "        #for iv in range(0, K):\n",
    "        for ii in range(0, n):\n",
    "            for jj in range(ii + 1, n):\n",
    "                instance[ii, jj] = ((xc[ii] - xc[jj]) ** 2 + (yc[ii] - yc[jj]) ** 2) #* t_list[iv]/10\n",
    "                instance[jj, ii] = instance[ii, jj] \n",
    "\n",
    "        return xc, yc, instance"
   ]
  },
  {
   "cell_type": "code",
   "execution_count": 13,
   "metadata": {},
   "outputs": [],
   "source": [
    "# Initialize the problem by randomly generating the instance\n",
    "initializer = Initializer(n+1, K)  # +1 for depot\n",
    "xc, yc, instance = initializer.generate_instance()\n"
   ]
  },
  {
   "cell_type": "code",
   "execution_count": 22,
   "metadata": {},
   "outputs": [
    {
     "data": {
      "text/plain": [
       "array([ 0.51003914,  2.55963937, -0.64283509, -4.57068577,  2.98724481,\n",
       "       -2.72584275])"
      ]
     },
     "execution_count": 22,
     "metadata": {},
     "output_type": "execute_result"
    }
   ],
   "source": [
    "xc"
   ]
  },
  {
   "cell_type": "markdown",
   "metadata": {},
   "source": [
    "## Quantum solution from the ground up\n",
    "\n",
    "For the quantum solution, we use Qiskit. \n",
    "\n",
    "First, we derive the solution from the ground up, using a class QuantumOptimizer that encodes the quantum approach to solve the problem and then we instantiate it and solve it. We define the following methods inside the class:\n",
    "\n",
    "- `binary_representation` : encodes the problem $(M)$ into a QP terms (that's basically linear algebra);\n",
    "- `construct_problem` : constructs a QUBO optimization problem as an instance of `QuadraticProgram`;\n",
    "- `solve_problem`: solves the problem $(M)$ constructed at the previous step via `MinimunEigenOptimizer` by using `SamplingVQE` with default parameters;"
   ]
  },
  {
   "cell_type": "code",
   "execution_count": 14,
   "metadata": {},
   "outputs": [],
   "source": [
    "from qiskit_optimization import QuadraticProgram\n",
    "from qiskit_optimization.algorithms import MinimumEigenOptimizer\n",
    "from qiskit_optimization.algorithms import CplexOptimizer\n",
    "\n",
    "\n",
    "class GenOptimizer:\n",
    "    def __init__(self, instance, t_vec, n, K):\n",
    "\n",
    "        self.instance = instance\n",
    "        self.t_vec = t_vec\n",
    "        self.n = n\n",
    "        self.K = K\n",
    "\n",
    "    def binary_representation(self, x_sol=0):\n",
    "\n",
    "        instance = self.instance\n",
    "        t_vec = self.t_vec\n",
    "        n = self.n\n",
    "        K = self.K\n",
    "\n",
    "        C_D = np.max(instance) * 2.0  # A parameter of cost function\n",
    "        \n",
    "        # a: 1..n\n",
    "        # i,j: 1...n\n",
    "\n",
    "        # Determine the vars        \n",
    "        \n",
    "        cij = instance[1:,1:] # cost b/w ij nodes (not incl depot)\n",
    "        ci0_vec = instance[1:,0]\n",
    "        c0i_vec = instance[0,1:]\n",
    "        \n",
    "        # term 1 (quad)\n",
    "        cij_sym = (cij+cij.T)/2\n",
    "        M1a = np.zeros((n,n))\n",
    "        M1a[:-1,1:] = np.identity(n-1)\n",
    "        M1 = np.kron(cij_sym,M1a)\n",
    "        \n",
    "        # term 2\n",
    "        \n",
    "        # 21 (linear)\n",
    "        alpha_ones = np.ones(n)\n",
    "        V21ia = np.kron(c0i_vec,alpha_ones)\n",
    "        \n",
    "        id_i = np.identity(n)\n",
    "        M21a = np.zeros((n,n))\n",
    "        M21a[0,0] = 1\n",
    "        M21ia = np.kron(id_i,M21a)\n",
    "        \n",
    "        V21 = (V21ia.T)@M21ia\n",
    "        \n",
    "        # term 22 (linear)\n",
    "        \n",
    "        alpha_0_ones = np.ones(n)\n",
    "        alpha_0_ones[0] = 0\n",
    "        V22 = np.kron(c0i_vec,alpha_0_ones)\n",
    "        \n",
    "        # term 23 (quad)\n",
    "        \n",
    "        c0i_row, c0i_col = np.meshgrid(c0i_vec, c0i_vec, indexing='ij')\n",
    "        c0i_arr = c0i_col - np.diag(c0i_vec)\n",
    "        M23a = np.zeros((n,n))\n",
    "        M23a[1:,:-1] = np.identity(n-1)\n",
    "        \n",
    "        M23 = -np.kron(c0i_arr,M23a)\n",
    "        \n",
    "        # term 31 (linear)\n",
    "        \n",
    "        alpha_ones = np.ones(n)\n",
    "        V31ia = np.kron(ci0_vec,alpha_ones)\n",
    "        \n",
    "        id_i = np.identity(n)\n",
    "        M31a = np.zeros((n,n))\n",
    "        M31a[-1,-1] = 1\n",
    "        M31ia = np.kron(id_i,M31a)\n",
    "        \n",
    "        V31 = (V31ia.T)@M31ia\n",
    "        \n",
    "        # term 32 (linear)\n",
    "        \n",
    "        alpha_ones_0 = np.ones(n)\n",
    "        alpha_ones_0[-1] = 0\n",
    "        V32 = np.kron(ci0_vec,alpha_ones_0)\n",
    "        \n",
    "        # term 33 (quad)\n",
    "        \n",
    "        ci0_row, ci0_col = np.meshgrid(ci0_vec, ci0_vec, indexing='ij')\n",
    "        ci0_arr = ci0_col - np.diag(ci0_vec)\n",
    "        M33a = np.zeros((n,n))\n",
    "        M33a[:-1,1:] = np.identity(n-1)\n",
    "        M33 = -np.kron(ci0_arr,M33a)\n",
    "        \n",
    "        # term 41 (linear)\n",
    "        \n",
    "        alpha_0_ones = np.ones(n)\n",
    "        alpha_0_ones[0] = 0\n",
    "        i_ones = np.ones(n)\n",
    "        V41 = np.kron(np.kron(i_ones,alpha_0_ones),t_vec)\n",
    "        \n",
    "        # term 42 (quad)\n",
    "        \n",
    "        t_val_arr = np.diag(t_vec)\n",
    "        \n",
    "        i_ones_arr = np.ones((n,n))\n",
    "        M42a = np.zeros((n,n))\n",
    "        M42a[1:,:-1] = np.identity(n-1)\n",
    "        M42 = - np.kron(np.kron(i_ones_arr,M42a),t_val_arr)\n",
    "        \n",
    "        # term 51 (linear+constant)\n",
    "        \n",
    "        V51 = -2 * np.ones(n ** 2)\n",
    "        C51 = n\n",
    "        \n",
    "        # term 52 (quad)\n",
    "        \n",
    "        id_i = np.identity(n)\n",
    "        M52a = np.ones((n,n))\n",
    "        M52 = np.kron(id_i,M52a)\n",
    "        \n",
    "        # term 61 (linear+constant)\n",
    "        \n",
    "        V61 = -2 * np.ones(n ** 2)\n",
    "        C61 = n\n",
    "        \n",
    "        # term 62 (quad)\n",
    "        \n",
    "        id_a = np.identity(n)\n",
    "        M62i = np.ones((n,n))\n",
    "        M62 = np.kron(M62i,id_a)\n",
    "        \n",
    "        # include vehicle index for quadratic terms of 1-4 (overall tensor product with identity)\n",
    "        id_v = np.identity(K)\n",
    "        \n",
    "        M1 = np.kron(M1, id_v)\n",
    "        M23 = np.kron(M23, id_v)\n",
    "        M33 = np.kron(M33, id_v)\n",
    "        #M42 = np.kron(M42, id_v)\n",
    "        \n",
    "        # include vehicle index for linear terms of 1-4 (overall tensor product with ones)\n",
    "        \n",
    "        ones_v = np.ones(K)\n",
    "        \n",
    "        V21 = np.kron(V21, ones_v)\n",
    "        V22 = np.kron(V22, ones_v)\n",
    "        V31 = np.kron(V31, ones_v)\n",
    "        V32 = np.kron(V32, ones_v)\n",
    "        #V41 = np.kron(V41, ones_v)\n",
    "        \n",
    "        # include vehicle index for linear terms of 5-6 (overall tensor product with ones)\n",
    "        \n",
    "        ones_v = np.ones(K)\n",
    "        \n",
    "        V51 = np.kron(V51, ones_v)\n",
    "        V61 = np.kron(V61, ones_v)\n",
    "        \n",
    "        # include vehicle index for quadratic terms of 5-6 (overall tensor product with matrix of ones)\n",
    "        \n",
    "        ones_mat_v = np.ones((K,K))\n",
    "        \n",
    "        M52 = np.kron(M52, ones_mat_v)\n",
    "        M62 = np.kron(M62, ones_mat_v)\n",
    "        \n",
    "        # constant terms remain unchanged\n",
    "        \n",
    "        # Q defines the interactions between variables: quadratic term\n",
    "        Q = M1 + M23 + M33 + M42 + C_D * (M52 + M62)\n",
    "\n",
    "        # g defines the contribution from the individual variables: linear term\n",
    "        g = V21 + V22 + V31 + V32 + V41 + C_D * (V51 + V61)\n",
    "\n",
    "        # c is the constant offset\n",
    "        c = C_D * (C51 + C61)\n",
    "\n",
    "        try:\n",
    "            max(x_sol)\n",
    "            # Evaluates the cost distance from a binary representation of a path\n",
    "            fun = (\n",
    "                lambda x: np.dot(np.around(x), np.dot(Q, np.around(x)))\n",
    "                + np.dot(g, np.around(x))\n",
    "                + c\n",
    "            )\n",
    "            cost = fun(x_sol)\n",
    "        except:\n",
    "            cost = 0\n",
    "\n",
    "        return Q, g, c, cost\n",
    "\n",
    "    def construct_problem(self, Q, g, c) -> QuadraticProgram:\n",
    "        qp = QuadraticProgram()\n",
    "        for i in range(n * n * K):\n",
    "            qp.binary_var(str(i))\n",
    "        qp.objective.quadratic = Q\n",
    "        qp.objective.linear = g\n",
    "        qp.objective.constant = c\n",
    "        return qp\n",
    "\n",
    "    def solve_problem_quantum(self, qp):\n",
    "        algorithm_globals.random_seed = 21 #37 #10598\n",
    "        vqe = SamplingVQE(sampler=Sampler(), optimizer=SPSA(), ansatz=RealAmplitudes())\n",
    "        optimizer = MinimumEigenOptimizer(min_eigen_solver=vqe)\n",
    "        result = optimizer.solve(qp)\n",
    "        # compute cost of the obtained result\n",
    "        _, _, _, level = self.binary_representation(x_sol=result.x)\n",
    "        return result.x, level\n",
    "    \n",
    "    def solve_problem_classical(self, qp):\n",
    "        algorithm_globals.random_seed = 37 #10598\n",
    "        vqe = SamplingVQE(sampler=Sampler(), optimizer=SPSA(), ansatz=RealAmplitudes())\n",
    "        optimizer = CplexOptimizer() \n",
    "        result = optimizer.solve(qp)\n",
    "        # compute cost of the obtained result\n",
    "        _, _, _, level = self.binary_representation(x_sol=result.x)\n",
    "        return result.x, level"
   ]
  },
  {
   "cell_type": "markdown",
   "metadata": {},
   "source": [
    "### Step 1\n",
    "\n",
    "Instantiate the quantum optimizer class with parameters: \n",
    "\n",
    "- the instance;\n",
    "- the number of nodes and vehicles `n` and `K`;"
   ]
  },
  {
   "cell_type": "code",
   "execution_count": 15,
   "metadata": {},
   "outputs": [],
   "source": [
    "# Instantiate the quantum optimizer class with parameters:\n",
    "quantum_optimizer = GenOptimizer(instance, t_list, n, K)"
   ]
  },
  {
   "cell_type": "markdown",
   "metadata": {},
   "source": [
    "### Step 2\n",
    "\n",
    "Encode the problem as a binary formulation (IH-QP).\n",
    "\n",
    "Sanity check: make sure that the binary formulation in the quantum optimizer is correct (i.e., yields the same cost given the same solution)."
   ]
  },
  {
   "cell_type": "markdown",
   "metadata": {},
   "source": [
    "### Step 3\n",
    "\n",
    "Encode the problem as an instance of `QuadraticProgram`."
   ]
  },
  {
   "cell_type": "code",
   "execution_count": 16,
   "metadata": {},
   "outputs": [],
   "source": [
    "Q, g, c, binary_cost = quantum_optimizer.binary_representation()\n",
    "qp = quantum_optimizer.construct_problem(Q, g, c)"
   ]
  },
  {
   "cell_type": "markdown",
   "metadata": {},
   "source": [
    "### Step 4\n",
    "\n",
    "Solve the problem via `MinimumEigenOptimizer` from the optimization stack. N.B. Depending on the number of qubits, the state-vector simulation can take a while; for example with 12 qubits, it takes more than 12 hours. Logging is useful to see what the program is doing."
   ]
  },
  {
   "cell_type": "code",
   "execution_count": 17,
   "metadata": {},
   "outputs": [
    {
     "name": "stdout",
     "output_type": "stream",
     "text": [
      "[0. 0. 0. 0. 0. 0. 0. 1. 0. 0. 0. 0. 0. 0. 0. 1. 0. 0. 0. 0. 0. 0. 0. 1.\n",
      " 0. 0. 0. 0. 0. 0. 0. 0. 0. 0. 0. 0. 0. 0. 0. 1. 0. 1. 0. 0. 0. 0. 0. 0.\n",
      " 0. 0.] 50.033924266599115\n"
     ]
    }
   ],
   "source": [
    "#quantum_solution, quantum_cost = quantum_optimizer.solve_problem_quantum(qp)\n",
    "classical_solution, classical_cost = quantum_optimizer.solve_problem_classical(qp)\n",
    "\n",
    "#print(quantum_solution, quantum_cost)\n",
    "print(classical_solution, classical_cost)"
   ]
  },
  {
   "cell_type": "markdown",
   "metadata": {},
   "source": [
    "### Step 5\n",
    "Visualize the solution"
   ]
  },
  {
   "cell_type": "code",
   "execution_count": 18,
   "metadata": {},
   "outputs": [],
   "source": [
    "# Visualize the solution\n",
    "\n",
    "import matplotlib.colors as colors\n",
    "import matplotlib.cm as cmx\n",
    "import matplotlib.pyplot as plt\n",
    "\n",
    "def visualize_solution(xc, yc, x_flat, C, n, K, title_str):\n",
    "    fig, ax = plt.subplots(1,1,figsize=(7,5))\n",
    "    plt.scatter(xc, yc, s=200)\n",
    "    for i in range(len(xc)):\n",
    "        plt.annotate(i, (xc[i] + 0.15, yc[i]), size=16, color=\"r\")\n",
    "    plt.plot(xc[0], yc[0], \"r*\", ms=20)\n",
    "\n",
    "    plt.grid()\n",
    "    \n",
    "    cmap = plt.cm.jet\n",
    "\n",
    "    cNorm  = colors.Normalize(vmin=1, vmax=K)\n",
    "\n",
    "    scalarMap = cmx.ScalarMappable(norm=cNorm,cmap=cmap)\n",
    "   \n",
    "    cb = plt.colorbar(scalarMap, ax = ax, pad=.025)\n",
    "\n",
    "    cb.ax.set_title(r'K')\n",
    "\n",
    "   \n",
    "    x_arr = np.reshape(x_flat, ((n+1)**2, K))\n",
    "    for iv in range(0, K):\n",
    "        x = x_arr[:,iv]\n",
    "        colorVal = scalarMap.to_rgba(iv+1)\n",
    "        for ii in range(0, (n+1)**2):\n",
    "\n",
    "            if x[ii] > 0:\n",
    "                ix = ii // (n+1)\n",
    "                iy = ii % (n+1)\n",
    "                plt.arrow(\n",
    "                    xc[ix],\n",
    "                    yc[ix],\n",
    "                    xc[iy] - xc[ix],\n",
    "                    yc[iy] - yc[ix],\n",
    "                    length_includes_head=True,\n",
    "                    head_width=0.25,\n",
    "                    color=colorVal\n",
    "                )\n",
    "\n",
    "    plt.title(title_str + \" cost = \" + str(int(C * 100) / 100.0))\n",
    "    plt.show()\n",
    "\n"
   ]
  },
  {
   "cell_type": "code",
   "execution_count": 19,
   "metadata": {},
   "outputs": [],
   "source": [
    "\n",
    "def f_y_to_x(sol):\n",
    "\n",
    "    x_ij_temp = np.zeros((n, n, K))  # xij, not incl depot\n",
    "\n",
    "    y_i_alpha = np.reshape(sol, (n,n,K))\n",
    "\n",
    "    for i in range(0, n):\n",
    "        for j in range(0, n):\n",
    "            for a in range(0, n-1):\n",
    "                x_ij_temp[i,j,:] += y_i_alpha[i,a,:] * y_i_alpha[j,a+1,:]\n",
    "\n",
    "    x_ij_full = np.zeros((n+1, n+1, K))\n",
    "\n",
    "    x_ij_full[1:,1:,:] = x_ij_temp\n",
    "\n",
    "    for i in range(0, n):\n",
    "        x_ij_full[0,i+1] += y_i_alpha[i,0]\n",
    "        for a in range(1, n):\n",
    "            x_ij_full[0,i+1] += y_i_alpha[i,a]\n",
    "            for j in range(0, n):\n",
    "                if j!=i:\n",
    "                    x_ij_full[0,i+1,:] += -y_i_alpha[j,a-1,:] * y_i_alpha[i,a,:]\n",
    "\n",
    "    for i in range(0, n):\n",
    "        x_ij_full[i+1,0,:] += y_i_alpha[i,-1,:]\n",
    "        for a in range(0, n-1):\n",
    "            x_ij_full[i+1,0,:] += y_i_alpha[i,a,:]\n",
    "            for j in range(0, n):\n",
    "                if j!=i:\n",
    "                    x_ij_full[i+1,0,:] += -y_i_alpha[j,a+1,:] * y_i_alpha[i,a,:]\n",
    "                    \n",
    "    return x_ij_full\n"
   ]
  },
  {
   "cell_type": "code",
   "execution_count": 20,
   "metadata": {},
   "outputs": [
    {
     "data": {
      "text/plain": [
       "array([20, 50])"
      ]
     },
     "execution_count": 20,
     "metadata": {},
     "output_type": "execute_result"
    }
   ],
   "source": [
    "t_list"
   ]
  },
  {
   "cell_type": "code",
   "execution_count": 21,
   "metadata": {
    "tags": [
     "nbsphinx-thumbnail"
    ]
   },
   "outputs": [
    {
     "data": {
      "image/png": "[encoded data removed]",
      "text/plain": [
       "<Figure size 504x360 with 2 Axes>"
      ]
     },
     "metadata": {
      "needs_background": "light"
     },
     "output_type": "display_data"
    }
   ],
   "source": [
    "# Put the solution in a way that is compatible with the classical variables\n",
    "\n",
    "# change y_i,alpha back to x_ij to plot\n",
    "\n",
    "#x_ij_q = f_y_to_x(quantum_solution)\n",
    "x_ij_c = f_y_to_x(classical_solution)\n",
    "\n",
    "# visualize the solution\n",
    "#visualize_solution(xc, yc, x_ij_q.flatten(), quantum_cost, n, K, \"Quantum\")\n",
    "\n",
    "# and visualize the classical for comparison\n",
    "visualize_solution(xc, yc, x_ij_c.flatten(), classical_cost, n, K, \"Quantum\")\n"
   ]
  },
  {
   "cell_type": "markdown",
   "metadata": {},
   "source": [
    "The plots present the depot with a star and the selected routes for the vehicles with arrows. Note that in this particular case, we can find the optimal solution of the QP formulation, which happens to coincide with the optimal solution of the ILP.\n",
    "\n",
    "Keep in mind that VQE is an heuristic working on the QP formulation of the Ising Hamiltonian, though. For suitable choices of A, local optima of the QP formulation will be feasible solutions to the ILP. While for some small instances, as above, we can find optimal solutions of the QP formulation which coincide with optima of the ILP, finding optimal solutions of the ILP is harder than finding local optima of the QP formulation, in general, which in turn is harder than finding feasible solutions of the ILP. Even within the VQE, one may provide stronger guarantees, for specific variational forms (trial wave functions). "
   ]
  },
  {
   "cell_type": "code",
   "execution_count": 15,
   "metadata": {},
   "outputs": [
    {
     "data": {
      "text/html": [
       "<h3>Version Information</h3><table><tr><th>Qiskit Software</th><th>Version</th></tr><tr><td><code>qiskit-terra</code></td><td>0.23.0</td></tr><tr><td><code>qiskit-aer</code></td><td>0.11.1</td></tr><tr><td><code>qiskit-optimization</code></td><td>0.5.0</td></tr><tr><td><code>qiskit-machine-learning</code></td><td>0.6.0</td></tr><tr><th>System information</th></tr><tr><td>Python version</td><td>3.9.15</td></tr><tr><td>Python compiler</td><td>Clang 14.0.0 (clang-1400.0.29.102)</td></tr><tr><td>Python build</td><td>main, Oct 11 2022 22:27:25</td></tr><tr><td>OS</td><td>Darwin</td></tr><tr><td>CPUs</td><td>4</td></tr><tr><td>Memory (Gb)</td><td>16.0</td></tr><tr><td colspan='2'>Tue Dec 06 21:53:30 2022 JST</td></tr></table>"
      ],
      "text/plain": [
       "<IPython.core.display.HTML object>"
      ]
     },
     "metadata": {},
     "output_type": "display_data"
    },
    {
     "data": {
      "text/html": [
       "<div style='width: 100%; background-color:#d5d9e0;padding-left: 10px; padding-bottom: 10px; padding-right: 10px; padding-top: 5px'><h3>This code is a part of Qiskit</h3><p>&copy; Copyright IBM 2017, 2022.</p><p>This code is licensed under the Apache License, Version 2.0. You may<br>obtain a copy of this license in the LICENSE.txt file in the root directory<br> of this source tree or at http://www.apache.org/licenses/LICENSE-2.0.<p>Any modifications or derivative works of this code must retain this<br>copyright notice, and modified files need to carry a notice indicating<br>that they have been altered from the originals.</p></div>"
      ],
      "text/plain": [
       "<IPython.core.display.HTML object>"
      ]
     },
     "metadata": {},
     "output_type": "display_data"
    }
   ],
   "source": [
    "import qiskit.tools.jupyter\n",
    "\n",
    "%qiskit_version_table\n",
    "%qiskit_copyright"
   ]
  },
  {
   "cell_type": "code",
   "execution_count": null,
   "metadata": {},
   "outputs": [],
   "source": []
  }
 ],
 "metadata": {
  "kernelspec": {
   "display_name": "Python 3 (ipykernel)",
   "language": "python",
   "name": "python3"
  },
  "language_info": {
   "codemirror_mode": {
    "name": "ipython",
    "version": 3
   },
   "file_extension": ".py",
   "mimetype": "text/x-python",
   "name": "python",
   "nbconvert_exporter": "python",
   "pygments_lexer": "ipython3",
   "version": "3.9.12"
  }
 },
 "nbformat": 4,
 "nbformat_minor": 4
}
